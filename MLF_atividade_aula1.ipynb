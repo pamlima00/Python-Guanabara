{
  "nbformat": 4,
  "nbformat_minor": 0,
  "metadata": {
    "colab": {
      "provenance": [],
      "include_colab_link": true
    },
    "kernelspec": {
      "name": "python3",
      "display_name": "Python 3"
    },
    "language_info": {
      "name": "python"
    }
  },
  "cells": [
    {
      "cell_type": "markdown",
      "metadata": {
        "id": "view-in-github",
        "colab_type": "text"
      },
      "source": [
        "<a href=\"https://colab.research.google.com/github/pamlima00/Python-Guanabara/blob/main/MLF_atividade_aula1.ipynb\" target=\"_parent\"><img src=\"https://colab.research.google.com/assets/colab-badge.svg\" alt=\"Open In Colab\"/></a>"
      ]
    },
    {
      "cell_type": "markdown",
      "source": [
        "# Trabalho em grupo\n",
        "\n",
        "Instruções importantes:\n",
        "\n",
        "* Façam uma cópia deste notebook e **enviem o link** dele preenchido respondido no sistema.\n",
        "* O trabalho é para ser feito em grupo de 3 a 5 pessoas\n",
        "* Todas as respostas devem apresentar o código que foi utilizado. Com excessão da pergunta 10 que deve ser respondida por texto\n",
        "* A resposta deve ser contida no espaço abaixo da pergunta a que se refere e a cima das perguntas seguintes. **Organização importa**\n",
        "* Só uma pessoa do grupo deve enviar o trabalho e ao fazer isso listar quem são os integrantes do grupo.\n",
        "* Prazo para o trabalho está no sistema\n",
        "* Qualquer dúvida estou a disposição :D"
      ],
      "metadata": {
        "id": "xCydPufEWDCI"
      }
    },
    {
      "cell_type": "markdown",
      "source": [
        "## Primeiro passo\n",
        "\n",
        "Baixe o dataset com o comando a baixo"
      ],
      "metadata": {
        "id": "_iqBwn6vWH2l"
      }
    },
    {
      "cell_type": "code",
      "execution_count": null,
      "metadata": {
        "colab": {
          "base_uri": "https://localhost:8080/"
        },
        "id": "mYQhxXlEVXVm",
        "outputId": "edde5395-ac69-41b5-8e79-6f98a1e62bc0"
      },
      "outputs": [
        {
          "output_type": "stream",
          "name": "stdout",
          "text": [
            "--2025-01-22 14:08:33--  https://raw.githubusercontent.com/alexeygrigorev/datasets/master/laptops.csv\n",
            "Resolving raw.githubusercontent.com (raw.githubusercontent.com)... 185.199.108.133, 185.199.109.133, 185.199.110.133, ...\n",
            "Connecting to raw.githubusercontent.com (raw.githubusercontent.com)|185.199.108.133|:443... connected.\n",
            "HTTP request sent, awaiting response... 200 OK\n",
            "Length: 298573 (292K) [text/plain]\n",
            "Saving to: ‘laptops.csv’\n",
            "\n",
            "laptops.csv         100%[===================>] 291.58K  --.-KB/s    in 0.02s   \n",
            "\n",
            "2025-01-22 14:08:34 (17.2 MB/s) - ‘laptops.csv’ saved [298573/298573]\n",
            "\n"
          ]
        }
      ],
      "source": [
        "!wget https://raw.githubusercontent.com/alexeygrigorev/datasets/master/laptops.csv"
      ]
    },
    {
      "cell_type": "markdown",
      "source": [
        "## Pergunta 1\n",
        "\n",
        "Qual a versão do pandas utilizada?"
      ],
      "metadata": {
        "id": "osfSGlhAWOcb"
      }
    },
    {
      "cell_type": "code",
      "source": [],
      "metadata": {
        "id": "KrlXU1epV566"
      },
      "execution_count": null,
      "outputs": []
    },
    {
      "cell_type": "markdown",
      "source": [
        "## Pergunta 2\n",
        "\n",
        "Como utilizar pandas para importar (ler) o arquivo csv que foi baixado?"
      ],
      "metadata": {
        "id": "oEEmi40vYlVo"
      }
    },
    {
      "cell_type": "code",
      "source": [],
      "metadata": {
        "id": "1cgbaMhdYsCs"
      },
      "execution_count": null,
      "outputs": []
    },
    {
      "cell_type": "markdown",
      "source": [
        "## Pergunta 3\n",
        "\n",
        "Quantos elementos tem no dataset?"
      ],
      "metadata": {
        "id": "60yvJ8jIWVmJ"
      }
    },
    {
      "cell_type": "code",
      "source": [],
      "metadata": {
        "id": "ImE8k7NeWam8"
      },
      "execution_count": null,
      "outputs": []
    },
    {
      "cell_type": "markdown",
      "source": [
        "## Pergunta 4\n",
        "\n",
        "Quantas marcas de laptop existem no dataset?"
      ],
      "metadata": {
        "id": "awGqlG0iWhuM"
      }
    },
    {
      "cell_type": "code",
      "source": [],
      "metadata": {
        "id": "NcoHCg5uWmx2"
      },
      "execution_count": null,
      "outputs": []
    },
    {
      "cell_type": "markdown",
      "source": [
        "## Pergunta 5\n",
        "\n",
        "Quantas colunas no dataset tem valores faltantes (nulos)?"
      ],
      "metadata": {
        "id": "zhbHRFlcWp7G"
      }
    },
    {
      "cell_type": "code",
      "source": [],
      "metadata": {
        "id": "RNkg7ls9Wufd"
      },
      "execution_count": null,
      "outputs": []
    },
    {
      "cell_type": "markdown",
      "source": [
        "## Pergunta 6\n",
        "\n",
        "Qual o maior preço final dos notebooks da Dell nesse dataset"
      ],
      "metadata": {
        "id": "_NNk9YjGWvAz"
      }
    },
    {
      "cell_type": "code",
      "source": [],
      "metadata": {
        "id": "BAvlOZYqW27W"
      },
      "execution_count": null,
      "outputs": []
    },
    {
      "cell_type": "markdown",
      "source": [
        "## Pergunta 7\n",
        "\n",
        "Qual a mediana do tamanho das telas?"
      ],
      "metadata": {
        "id": "iOLz6QNrW9XI"
      }
    },
    {
      "cell_type": "code",
      "source": [],
      "metadata": {
        "id": "8HHDH3IvXBdT"
      },
      "execution_count": null,
      "outputs": []
    },
    {
      "cell_type": "markdown",
      "source": [
        "## Pergunta 8\n",
        "\n",
        "Como usar matplotlib para a distribuição dos preços de notebook?"
      ],
      "metadata": {
        "id": "EoinaRJeXFC5"
      }
    },
    {
      "cell_type": "code",
      "source": [],
      "metadata": {
        "id": "RqtdzDuRXWSH"
      },
      "execution_count": null,
      "outputs": []
    },
    {
      "cell_type": "markdown",
      "source": [
        "## Pergunta 9\n",
        "\n",
        "Como usar matplotlib para ilustrar como os preços variam a depender se o notebook é novo ou não?"
      ],
      "metadata": {
        "id": "JabZH_40XrY2"
      }
    },
    {
      "cell_type": "code",
      "source": [],
      "metadata": {
        "id": "MH_dVNmRX5Mx"
      },
      "execution_count": null,
      "outputs": []
    },
    {
      "cell_type": "markdown",
      "source": [
        "## Pergunta 10\n",
        "\n",
        "Imagine que você faz parte de uma equipe e deve predizer o preço do notebook com base nos dados que temos no dataset. Responda as seguintes perguntas:\n",
        "\n",
        "\n",
        "\n",
        "*   Esse seria uma problema de que tipo de aprendizado (supervisionado, não supervisionado ou por reforço)? Por que?\n",
        "*   Dos algoritmos vistos na aula passada, qual você usaria e por que?\n",
        "*   Quais colunas você usaria para criar o modelo e por que?\n",
        "\n"
      ],
      "metadata": {
        "id": "5dIWONaPX-cG"
      }
    },
    {
      "cell_type": "code",
      "source": [],
      "metadata": {
        "id": "n6BvNkCwYhai"
      },
      "execution_count": null,
      "outputs": []
    }
  ]
}